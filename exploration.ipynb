{
 "cells": [
  {
   "cell_type": "code",
   "execution_count": 20,
   "metadata": {},
   "outputs": [
    {
     "name": "stdout",
     "output_type": "stream",
     "text": [
      "n = 502\n",
      "d = 3\n",
      "g = 97\n",
      "k = 90\n",
      "w = 84\n",
      "m = 101\n",
      "s = 7\n"
     ]
    }
   ],
   "source": [
    "from random import randint\n",
    "cost = 0\n",
    "n = randint(300, 1001)\n",
    "d = randint(3, 10)\n",
    "g = randint(96, 100)\n",
    "k = randint(88, 93)\n",
    "w = randint(78, 85)\n",
    "m = randint(50, 101)\n",
    "s = randint(2, 7)\n",
    "masterMechanic = False\n",
    "\n",
    "print('n = ' + str(n))\n",
    "print('d = ' + str(d))\n",
    "print('g = ' + str(g))\n",
    "print('k = ' + str(k))\n",
    "print('w = ' + str(w))\n",
    "print('m = ' + str(m))\n",
    "print('s = ' + str(s))\n",
    "\n",
    "adjustments = randint(1, 101)\n",
    "if adjustments in range(1, 81):\n",
    "    goodAdjustments = 2\n",
    "elif adjustments in range(81, 96):\n",
    "    goodAdjustments = 1\n",
    "else:\n",
    "    goodAdjustments = 0"
   ]
  },
  {
   "cell_type": "code",
   "execution_count": 21,
   "metadata": {},
   "outputs": [
    {
     "name": "stdout",
     "output_type": "stream",
     "text": [
      "\n",
      "Please choose a strategy:\n",
      "#1: call a master mechanic at a cost of $101 (m)\n",
      "#2: do nothing and hope for the best\n",
      "#3: run a sample of parts at a cost of $7 (s) per part\n",
      "    and call the master mechanic if any part is defective\n",
      "\n"
     ]
    },
    {
     "name": "stdin",
     "output_type": "stream",
     "text": [
      "Which strategy do you wish to use? Choose 1, 2, or 3 2\n"
     ]
    },
    {
     "name": "stdout",
     "output_type": "stream",
     "text": [
      "You've chosen strategy #2: do nothing and hope for the best.\n"
     ]
    }
   ],
   "source": [
    "# Strategies\n",
    "print(\"\"\"\n",
    "Please choose a strategy:\n",
    "#1: call a master mechanic at a cost of ${0} (m)\n",
    "#2: do nothing and hope for the best\n",
    "#3: run a sample of parts at a cost of ${1} (s) per part\n",
    "    and call the master mechanic if any part is defective\n",
    "\"\"\".format(m, s))\n",
    "\n",
    "strategy = input('Which strategy do you wish to use? Choose 1, 2, or 3')\n",
    "if strategy == '1':\n",
    "    print(\"You've chosen strategy #1: call a master mechanic at a cost of ${0} (m).\".format(m))\n",
    "    masterMechanic = True\n",
    "    cost += m\n",
    "elif strategy == '2':\n",
    "    print(\"You've chosen strategy #2: do nothing and hope for the best.\")\n",
    "elif strategy == '3':\n",
    "    print(\"\"\"\n",
    "You've chosen strategy #3: run a sample of parts at a cost of ${0} (s) per part\n",
    "                           and call the master mechanic if any part is defective\n",
    "    \"\"\".format(s))\n",
    "    samples = int(input('How many parts do you wish to sample? Choose a number > 0'))\n",
    "    assert (samples > 0), '{0} is not a number > 0'.format(strategy)\n",
    "    for x in range(5):\n",
    "        cost += samples * s\n",
    "        if goodAdjustments == 2:\n",
    "            if randint(1, 101) in range(1, 100 - g):\n",
    "                masterMechanic = True\n",
    "        elif goodAdjustments == 1:\n",
    "            if randint(1, 101) in range(1, 100 - k):\n",
    "                masterMechanic = True\n",
    "        else:\n",
    "            if randint(1, 101) in range(1, 100 - w):\n",
    "                masterMechanic = True\n",
    "else:\n",
    "    raise Exception('{0} is not a viable strategy. Choose 1, 2, or 3'.format(strategy))"
   ]
  },
  {
   "cell_type": "code",
   "execution_count": 22,
   "metadata": {},
   "outputs": [],
   "source": [
    "if masterMechanic == True:\n",
    "    goodAdjustments = 2"
   ]
  },
  {
   "cell_type": "code",
   "execution_count": 36,
   "metadata": {},
   "outputs": [
    {
     "name": "stdout",
     "output_type": "stream",
     "text": [
      "The total cost is $632.52\n"
     ]
    }
   ],
   "source": [
    "# cost of hand fitting defective parts:\n",
    "if goodAdjustments == 2:\n",
    "    goodParts = n * (g/100)\n",
    "elif goodAdjustments == 1:\n",
    "    goodParts = n * (k/100)\n",
    "else:\n",
    "    goodParts = n * (w/100)\n",
    "badParts = n - goodParts\n",
    "cost += d * badParts\n",
    "print('The total cost is ${0}'.format(round(cost, 2)))"
   ]
  },
  {
   "cell_type": "code",
   "execution_count": null,
   "metadata": {},
   "outputs": [],
   "source": []
  },
  {
   "cell_type": "code",
   "execution_count": null,
   "metadata": {},
   "outputs": [],
   "source": []
  }
 ],
 "metadata": {
  "kernelspec": {
   "display_name": "Python 3",
   "language": "python",
   "name": "python3"
  },
  "language_info": {
   "codemirror_mode": {
    "name": "ipython",
    "version": 3
   },
   "file_extension": ".py",
   "mimetype": "text/x-python",
   "name": "python",
   "nbconvert_exporter": "python",
   "pygments_lexer": "ipython3",
   "version": "3.5.2"
  }
 },
 "nbformat": 4,
 "nbformat_minor": 2
}
